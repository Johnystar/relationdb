{
 "cells": [
  {
   "cell_type": "markdown",
   "metadata": {},
   "source": [
    "- might need to restart ipykernel\n",
    "- initialise db first if necessary"
   ]
  },
  {
   "cell_type": "code",
   "execution_count": 1,
   "metadata": {},
   "outputs": [],
   "source": [
    "import relationdb\n",
    "from relationdb.models import Tag, TagHiearchy"
   ]
  },
  {
   "cell_type": "code",
   "execution_count": 2,
   "metadata": {},
   "outputs": [],
   "source": [
    "# AUTOMATIC DELETION AND RE-INITIALISATION OF THE DATABASE #\n",
    "import os\n",
    "if os.path.exists(\"demofile.txt\"):\n",
    "\tos.remove('objects.db')\n",
    "\n",
    "import initialise\n",
    "############################################################"
   ]
  },
  {
   "cell_type": "code",
   "execution_count": 3,
   "metadata": {},
   "outputs": [
    {
     "data": {
      "text/plain": [
       "1"
      ]
     },
     "execution_count": 3,
     "metadata": {},
     "output_type": "execute_result"
    }
   ],
   "source": [
    "video_tag = Tag(name='video')\n",
    "video_tag.save()\n",
    "\n",
    "media_tag = Tag(name='media')\n",
    "media_tag.save()"
   ]
  },
  {
   "cell_type": "code",
   "execution_count": 4,
   "metadata": {},
   "outputs": [
    {
     "data": {
      "text/plain": [
       "1"
      ]
     },
     "execution_count": 4,
     "metadata": {},
     "output_type": "execute_result"
    }
   ],
   "source": [
    "TagHiearchy(parent=media_tag, child=video_tag).save()"
   ]
  },
  {
   "cell_type": "code",
   "execution_count": 5,
   "metadata": {},
   "outputs": [
    {
     "data": {
      "text/plain": [
       "[('video', 1), ('media', 0)]"
      ]
     },
     "execution_count": 5,
     "metadata": {},
     "output_type": "execute_result"
    }
   ],
   "source": [
    "[(x.name, len(list(x.parent_tags))) for x in relationdb.tag.get_tags()]"
   ]
  }
 ],
 "metadata": {
  "interpreter": {
   "hash": "083db96dd477adcd86c7f6c2d541108f4091476147b1456f4b78b419c2fae2d1"
  },
  "kernelspec": {
   "display_name": "Python 3.9.7 64-bit ('venv': venv)",
   "language": "python",
   "name": "python3"
  },
  "language_info": {
   "codemirror_mode": {
    "name": "ipython",
    "version": 3
   },
   "file_extension": ".py",
   "mimetype": "text/x-python",
   "name": "python",
   "nbconvert_exporter": "python",
   "pygments_lexer": "ipython3",
   "version": "3.9.7"
  },
  "orig_nbformat": 4
 },
 "nbformat": 4,
 "nbformat_minor": 2
}
